{
 "cells": [
  {
   "cell_type": "markdown",
   "metadata": {},
   "source": [
    "# Hypothesis Testing"
   ]
  },
  {
   "cell_type": "markdown",
   "metadata": {},
   "source": [
    "## Another Introduction to Inference"
   ]
  },
  {
   "cell_type": "markdown",
   "metadata": {
    "collapsed": true
   },
   "source": [
    "<img src=\"images/Screen Shot 2016-06-22 at 8.29.02 PM.png\">\n",
    "<img src=\"images/Screen Shot 2016-06-22 at 8.29.08 PM.png\">\n",
    "<img src=\"images/Screen Shot 2016-06-22 at 8.29.14 PM.png\">\n",
    "<img src=\"images/Screen Shot 2016-06-22 at 8.31.10 PM.png\">\n",
    "\n",
    "*Screenshot taken from [Coursera](https://www.coursera.org/learn/inferential-statistics-intro/lecture/GvyX6/another-introduction-to-inferencet) 1:00*\n",
    "\n",
    "<!--TEASER_END-->"
   ]
  },
  {
   "cell_type": "markdown",
   "metadata": {},
   "source": [
    "## Hypothesis Testing (for a mean)"
   ]
  },
  {
   "cell_type": "markdown",
   "metadata": {},
   "source": [
    "<img src=\"images/Screen Shot 2016-06-22 at 8.33.35 PM.png\">\n",
    "<img src=\"images/Screen Shot 2016-06-22 at 8.48.16 PM.png\">\n",
    "<img src=\"images/Screen Shot 2016-06-22 at 8.47.54 PM.png\">\n",
    "<img src=\"images/Screen Shot 2016-06-22 at 8.48.00 PM.png\">\n",
    "\n",
    "*Screenshot taken from [Coursera](https://www.coursera.org/learn/inferential-statistics-intro/lecture/nnn84/hypothesis-testing-for-a-mean) 2:00*\n",
    "\n",
    "<!--TEASER_END-->"
   ]
  },
  {
   "cell_type": "markdown",
   "metadata": {},
   "source": [
    "### p-value"
   ]
  },
  {
   "cell_type": "markdown",
   "metadata": {},
   "source": [
    "<img src=\"images/Screen Shot 2016-06-22 at 8.54.40 PM.png\">\n",
    "<img src=\"images/Screen Shot 2016-06-22 at 10.23.41 PM.png\">\n",
    "<img src=\"images/Screen Shot 2016-06-22 at 10.25.38 PM.png\">\n",
    "<img src=\"images/Screen Shot 2016-06-22 at 10.26.58 PM.png\">\n",
    "<img src=\"images/Screen Shot 2016-06-22 at 10.50.19 PM.png\">\n",
    "\n",
    "*Screenshot taken from [Coursera](https://www.coursera.org/learn/inferential-statistics-intro/lecture/nnn84/hypothesis-testing-for-a-mean) 4:35*\n",
    "\n",
    "<!--TEASER_END-->"
   ]
  },
  {
   "cell_type": "markdown",
   "metadata": {},
   "source": [
    "### two-sided test"
   ]
  },
  {
   "cell_type": "markdown",
   "metadata": {},
   "source": [
    "<img src=\"images/Screen Shot 2016-06-22 at 10.50.26 PM.png\">\n",
    "<img src=\"images/Screen Shot 2016-06-22 at 10.50.32 PM.png\">\n",
    "<img src=\"images/Screen Shot 2016-06-22 at 10.53.11 PM.png\">\n",
    "<img src=\"images/Screen Shot 2016-06-22 at 10.53.17 PM.png\">\n",
    "<img src=\"images/Screen Shot 2016-06-22 at 10.53.24 PM.png\">\n",
    "\n",
    "*Screenshot taken from [Coursera](https://www.coursera.org/learn/inferential-statistics-intro/lecture/nnn84/hypothesis-testing-for-a-mean) 9:36*\n",
    "\n",
    "<!--TEASER_END-->"
   ]
  },
  {
   "cell_type": "markdown",
   "metadata": {},
   "source": [
    "## HT (for the mean) examples"
   ]
  },
  {
   "cell_type": "code",
   "execution_count": null,
   "metadata": {
    "collapsed": true
   },
   "outputs": [],
   "source": []
  }
 ],
 "metadata": {
  "kernelspec": {
   "display_name": "Python 2",
   "language": "python",
   "name": "python2"
  },
  "language_info": {
   "codemirror_mode": {
    "name": "ipython",
    "version": 2
   },
   "file_extension": ".py",
   "mimetype": "text/x-python",
   "name": "python",
   "nbconvert_exporter": "python",
   "pygments_lexer": "ipython2",
   "version": "2.7.11"
  },
  "toc": {
   "toc_cell": false,
   "toc_number_sections": true,
   "toc_threshold": "8",
   "toc_window_display": true
  }
 },
 "nbformat": 4,
 "nbformat_minor": 0
}
