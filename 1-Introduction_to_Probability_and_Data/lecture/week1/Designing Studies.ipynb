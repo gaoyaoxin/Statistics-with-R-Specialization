{
 "cells": [
  {
   "cell_type": "markdown",
   "metadata": {
    "toc": "true"
   },
   "source": [
    "# Table of Contents\n",
    " <p><div class=\"lev1\"><a href=\"#Introduction\"><span class=\"toc-item-num\">1&nbsp;&nbsp;</span>Introduction</a></div><div class=\"lev1\"><a href=\"#Data-Basics\"><span class=\"toc-item-num\">2&nbsp;&nbsp;</span>Data Basics</a></div><div class=\"lev2\"><a href=\"#Numerical-variables\"><span class=\"toc-item-num\">2.1&nbsp;&nbsp;</span>Numerical variables</a></div><div class=\"lev2\"><a href=\"#Categorical-variables\"><span class=\"toc-item-num\">2.2&nbsp;&nbsp;</span>Categorical variables</a></div><div class=\"lev2\"><a href=\"#Relationship-between-variables\"><span class=\"toc-item-num\">2.3&nbsp;&nbsp;</span>Relationship between variables</a></div><div class=\"lev1\"><a href=\"#Observational-studies-and-experiments\"><span class=\"toc-item-num\">3&nbsp;&nbsp;</span>Observational studies and experiments</a></div><div class=\"lev1\"><a href=\"#Sampling-and-sources-of-bias\"><span class=\"toc-item-num\">4&nbsp;&nbsp;</span>Sampling and sources of bias</a></div><div class=\"lev1\"><a href=\"#Experimental-Design\"><span class=\"toc-item-num\">5&nbsp;&nbsp;</span>Experimental Design</a></div>"
   ]
  },
  {
   "cell_type": "markdown",
   "metadata": {},
   "source": [
    "# Introduction"
   ]
  },
  {
   "cell_type": "markdown",
   "metadata": {},
   "source": [
    "- This unit will introduce you to the basics of collecting, analyzing and visualizing data as well as making database decisions."
   ]
  },
  {
   "cell_type": "markdown",
   "metadata": {},
   "source": [
    "# Data Basics"
   ]
  },
  {
   "cell_type": "markdown",
   "metadata": {},
   "source": [
    "- We will discuss data basics or more specifically, we will touch on three main concepts, observations, variables, and data matrices, types of variables, and relationships between variables. \n",
    "- Data are organized in what we call a data matrix, where \n",
    "    - each row: represents an observation or a case.\n",
    "    - each column represents a variable."
   ]
  },
  {
   "cell_type": "markdown",
   "metadata": {},
   "source": [
    "<img src=\"images/Screen Shot 2016-05-16 at 7.45.16 AM.png\">\n",
    "\n",
    "*Screenshot taken from [Coursera](https://www.coursera.org/learn/probability-intro/lecture/Q0zu3/data-basics) 0:43*\n",
    "\n",
    "<!--TEASER_END-->"
   ]
  },
  {
   "cell_type": "markdown",
   "metadata": {},
   "source": [
    "There are two types of variables, numerical and categorical. \n",
    "- **Numerical** in other words quantitative variables, take on numerical values. It is sensible to add, subtract, take averages, etc., with these values. \n",
    "- **Categorical** or qualitative variables, take a unlimited number of distinct categories, these categories can be identified with numbers for example, it is customary to see the gender of variable coded as zero for males and one for females. But it wouldn't be sensible to do arithmetic operations with these values. They're nearly place holders for the levels of the category of variable. "
   ]
  },
  {
   "cell_type": "markdown",
   "metadata": {},
   "source": [
    "<img src=\"images/Screen Shot 2016-05-16 at 7.48.16 AM.png\">\n",
    "\n",
    "*Screenshot taken from [Coursera](https://www.coursera.org/learn/probability-intro/lecture/Q0zu3/data-basics) 1:16*\n",
    "\n",
    "<!--TEASER_END-->"
   ]
  },
  {
   "cell_type": "markdown",
   "metadata": {},
   "source": [
    "## Numerical variables"
   ]
  },
  {
   "cell_type": "markdown",
   "metadata": {},
   "source": [
    "Numerical variables can further be categorized as continuous or discrete. \n",
    "- Continuous numerical variables are usually measured, such as height. These variables can take on any number of infinite values given within a given range. \n",
    "- Discreet numerical variables are those that take on one of a specific set of numeric values where we're able to count or enumerate all of the possibilities. One example of a discreet variable is the number of cars a household owns. In general, count data are an example of discrete variables."
   ]
  },
  {
   "cell_type": "markdown",
   "metadata": {},
   "source": [
    "<img src=\"images/Screen Shot 2016-05-16 at 7.51.28 AM.png\">\n",
    "\n",
    "*Screenshot taken from [Coursera](https://www.coursera.org/learn/probability-intro/lecture/Q0zu3/data-basics) 2:14*\n",
    "\n",
    "<!--TEASER_END-->"
   ]
  },
  {
   "cell_type": "markdown",
   "metadata": {},
   "source": [
    "## Categorical variables"
   ]
  },
  {
   "cell_type": "markdown",
   "metadata": {},
   "source": [
    "- Categorical variables that have ordered levels are called ordinal. Think about a survey question where you're asked how satisfied you are with the customer service you received and the options are very unsatisfied, unsatisfied, neutral, satisfied and very satisfied. These levels have an inherent ordering, hence the variable would be called ordinal. \n",
    "- If the levels of a categorical variable do not have an inherent ordering to them then the variable is simply called categorical. For example, are you a morning person or an afternoon person? "
   ]
  },
  {
   "cell_type": "markdown",
   "metadata": {},
   "source": [
    "<img src=\"images/Screen Shot 2016-05-16 at 7.54.38 AM.png\">\n",
    "\n",
    "*Screenshot taken from [Coursera](https://www.coursera.org/learn/probability-intro/lecture/Q0zu3/data-basics) 2:48*\n",
    "\n",
    "<!--TEASER_END-->"
   ]
  },
  {
   "cell_type": "markdown",
   "metadata": {},
   "source": [
    "<img src=\"images/Screen Shot 2016-05-16 at 7.56.44 AM.png\">\n",
    "<img src=\"images/Screen Shot 2016-05-16 at 7.56.29 AM.png\">\n",
    "\n",
    "*Screenshot taken from [Coursera](https://www.coursera.org/learn/probability-intro/lecture/Q0zu3/data-basics) 3:40*\n",
    "\n",
    "<!--TEASER_END-->"
   ]
  },
  {
   "cell_type": "markdown",
   "metadata": {},
   "source": [
    "<img src=\"images/Screen Shot 2016-05-16 at 7.59.34 AM.png\">\n",
    "<img src=\"images/Screen Shot 2016-05-16 at 7.59.13 AM.png\">\n",
    "\n",
    "*Screenshot taken from [Coursera](https://www.coursera.org/learn/probability-intro/lecture/Q0zu3/data-basics) 4:15*\n",
    "\n",
    "<!--TEASER_END-->"
   ]
  },
  {
   "cell_type": "markdown",
   "metadata": {},
   "source": [
    "## Relationship between variables"
   ]
  },
  {
   "cell_type": "markdown",
   "metadata": {},
   "source": [
    "- Here, we have a scatter plot of the user data requests by countries and the compliance rate by Google. We can see that on average as the number of requests increases, so does the compliance rate. And that there is one country that sticks out as a potential outlier with much higher user data requests than the others. That's actually the United States. \n",
    "- **associated or dependent **: When two variables show some connection with one another. The association can be further described as positive or negative, and for these variables the association appears to be positive. \n",
    "- **independent variables**: If two variables are not associated. "
   ]
  },
  {
   "cell_type": "markdown",
   "metadata": {},
   "source": [
    "<img src=\"images/Screen Shot 2016-05-16 at 8.03.12 AM.png\">\n",
    "\n",
    "*Screenshot taken from [Coursera](https://www.coursera.org/learn/probability-intro/lecture/Q0zu3/data-basics) 5:03*\n",
    "\n",
    "<!--TEASER_END-->"
   ]
  },
  {
   "cell_type": "markdown",
   "metadata": {},
   "source": [
    "# Observational studies and experiments"
   ]
  },
  {
   "cell_type": "markdown",
   "metadata": {},
   "source": [
    "We will define observational studies and experiments and discuss correlation and causation."
   ]
  },
  {
   "cell_type": "markdown",
   "metadata": {},
   "source": [
    "**Observational**"
   ]
  },
  {
   "cell_type": "markdown",
   "metadata": {},
   "source": [
    "- In an observational study, researchers collect data in a way that does not directly interfere with how the data arise. In other words, they merely observe. And based on observational studies, we can only establish an association. In other words, correlation between the explanatory and the response variables. \n",
    "- If an observational study uses data from the past, it's called a **retrospective study**. \n",
    "- Whereas if data are collected throughout the study, it's called **prospective**."
   ]
  },
  {
   "cell_type": "markdown",
   "metadata": {},
   "source": [
    "**Experiment**"
   ]
  },
  {
   "cell_type": "markdown",
   "metadata": {},
   "source": [
    "In an experiments on the other hand, researchers randomly assign subjects to treatments and can, therefore, establish causal connections between the explanatory and response variables."
   ]
  },
  {
   "cell_type": "markdown",
   "metadata": {},
   "source": [
    "<img src=\"images/Screen Shot 2016-05-16 at 8.09.00 AM.png\">\n",
    "\n",
    "*Screenshot taken from [Coursera](https://www.coursera.org/learn/probability-intro/lecture/Qw8iF/observational-studies-experiments) 0:43*\n",
    "\n",
    "<!--TEASER_END-->"
   ]
  },
  {
   "cell_type": "markdown",
   "metadata": {},
   "source": [
    "<img src=\"images/Screen Shot 2016-05-16 at 8.12.50 AM.png\">\n",
    "<img src=\"images/Screen Shot 2016-05-16 at 8.12.33 AM.png\">\n",
    "\n",
    "*Screenshot taken from [Coursera](https://www.coursera.org/learn/probability-intro/lecture/Qw8iF/observational-studies-experiments) 3:11*\n",
    "\n",
    "<!--TEASER_END-->"
   ]
  },
  {
   "cell_type": "markdown",
   "metadata": {},
   "source": [
    "The title of the article says, breakfast cereal keeps girls slim, but there actually three possible explanations here. \n",
    "- One, eating breakfast does indeed, cause girls to be slimmer. \n",
    "- Two, being slim might cause girls to eat breakfast, so the relationship could be reversed. \n",
    "- Three, there may be a third variable that is responsible for both being slim and eating breakfast. For example, generally being health conscious might result in being slim as well as starting the day off with breakfast. "
   ]
  },
  {
   "cell_type": "markdown",
   "metadata": {},
   "source": [
    "<img src=\"images/Screen Shot 2016-05-16 at 8.33.06 AM.png\">\n",
    "\n",
    "*Screenshot taken from [Coursera](https://www.coursera.org/learn/probability-intro/lecture/Qw8iF/observational-studies-experiments) 3:52*\n",
    "\n",
    "<!--TEASER_END-->"
   ]
  },
  {
   "cell_type": "markdown",
   "metadata": {},
   "source": [
    "Such extraneous variables that affect both the explanatory and the response variable and that make it seem like there's a relationship between them are called confounding variables."
   ]
  },
  {
   "cell_type": "markdown",
   "metadata": {},
   "source": [
    "<img src=\"images/Screen Shot 2016-05-16 at 8.34.41 AM.png\">\n",
    "\n",
    "*Screenshot taken from [Coursera](https://www.coursera.org/learn/probability-intro/lecture/Qw8iF/observational-studies-experiments) 3:59*\n",
    "\n",
    "<!--TEASER_END-->"
   ]
  },
  {
   "cell_type": "markdown",
   "metadata": {},
   "source": [
    "- If you're going to walk away with one thing from this class, let it be **correlation does not imply causation**. \n",
    "- And what determines whether we can infer causation or just correlation is the type of study that we're basing our conclusions. \n",
    "- Observational studies for the most part, allow us to make only correlational statements. \n",
    "- While experiments, allow us to infer causation. We said for the most part, because there are actually more advanced methods broadly titled causal inference that allow for making causal inferences for observational studies, but those studies are beyond the methods for this "
   ]
  },
  {
   "cell_type": "markdown",
   "metadata": {},
   "source": [
    "<img src=\"images/Screen Shot 2016-05-16 at 8.34.31 AM.png\">\n",
    "\n",
    "*Screenshot taken from [Coursera](https://www.coursera.org/learn/probability-intro/lecture/Qw8iF/observational-studies-experiments) 4:05*\n",
    "\n",
    "<!--TEASER_END-->"
   ]
  },
  {
   "cell_type": "markdown",
   "metadata": {},
   "source": [
    "<img src=\"images/Screen Shot 2016-05-16 at 8.37.44 AM.png\">\n",
    "\n",
    "*Screenshot taken from [Coursera](https://www.coursera.org/learn/probability-intro/lecture/Qw8iF/observational-studies-experiments) 4:39*\n",
    "\n",
    "<!--TEASER_END-->"
   ]
  },
  {
   "cell_type": "markdown",
   "metadata": {
    "collapsed": true
   },
   "source": [
    "# Sampling and sources of bias"
   ]
  },
  {
   "cell_type": "markdown",
   "metadata": {},
   "source": [
    "<img src=\"images/Screen Shot 2016-05-16 at 9.58.33 PM.png\">\n",
    "\n",
    "*Screenshot taken from [Coursera](https://www.coursera.org/learn/probability-intro/lecture/Y96uT/sampling-and-sources-of-bias) 4:19*\n",
    "\n",
    "<!--TEASER_END-->"
   ]
  },
  {
   "cell_type": "markdown",
   "metadata": {},
   "source": [
    "<img src=\"images/Screen Shot 2016-05-16 at 10.04.08 PM.png\">\n",
    "<img src=\"images/Screen Shot 2016-05-16 at 10.04.18 PM.png\">\n",
    "\n",
    "*Screenshot taken from [Coursera](https://www.coursera.org/learn/probability-intro/lecture/Y96uT/sampling-and-sources-of-bias) 8:00*\n",
    "\n",
    "<!--TEASER_END-->"
   ]
  },
  {
   "cell_type": "markdown",
   "metadata": {},
   "source": [
    "# Experimental Design"
   ]
  },
  {
   "cell_type": "markdown",
   "metadata": {},
   "source": [
    "<img src=\"images/Screen Shot 2016-05-16 at 10.10.01 PM.png\">\n",
    "<img src=\"images/Screen Shot 2016-05-16 at 10.10.09 PM.png\">\n",
    "\n",
    "*Screenshot taken from [Coursera](https://www.coursera.org/learn/probability-intro/lecture/Jyc3t/experimental-design) 2:04*\n",
    "\n",
    "<!--TEASER_END-->"
   ]
  }
 ],
 "metadata": {
  "kernelspec": {
   "display_name": "Python 2",
   "language": "python",
   "name": "python2"
  },
  "language_info": {
   "codemirror_mode": {
    "name": "ipython",
    "version": 2
   },
   "file_extension": ".py",
   "mimetype": "text/x-python",
   "name": "python",
   "nbconvert_exporter": "python",
   "pygments_lexer": "ipython2",
   "version": "2.7.11"
  },
  "toc": {
   "toc_cell": true,
   "toc_number_sections": true,
   "toc_threshold": "8",
   "toc_window_display": true
  }
 },
 "nbformat": 4,
 "nbformat_minor": 0
}
