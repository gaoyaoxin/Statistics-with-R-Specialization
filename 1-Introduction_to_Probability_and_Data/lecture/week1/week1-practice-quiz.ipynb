{
 "cells": [
  {
   "cell_type": "markdown",
   "metadata": {},
   "source": [
    "# Week 1 Practice Quiz"
   ]
  },
  {
   "cell_type": "markdown",
   "metadata": {},
   "source": [
    "# Question 1\n",
    "\n",
    "<img src=\"images/Screen Shot 2016-05-16 at 10.33.49 PM.png\">\n",
    "*Screenshot taken from [Coursera](https://www.coursera.org/learn/probability-intro/quiz/1lZY9/week-1-practice-quiz)*\n",
    "\n",
    "<!--TEASER_END-->"
   ]
  },
  {
   "cell_type": "markdown",
   "metadata": {},
   "source": [
    "# Question 2\n",
    "\n",
    "<img src=\"images/Screen Shot 2016-05-16 at 10.34.01 PM.png\">\n",
    "*Screenshot taken from [Coursera](https://www.coursera.org/learn/probability-intro/quiz/1lZY9/week-1-practice-quiz)*\n",
    "\n",
    "<!--TEASER_END-->"
   ]
  },
  {
   "cell_type": "markdown",
   "metadata": {},
   "source": [
    "# Question 3\n",
    "\n",
    "<img src=\"images/Screen Shot 2016-05-16 at 10.34.06 PM.png\">\n",
    "*Screenshot taken from [Coursera](https://www.coursera.org/learn/probability-intro/quiz/1lZY9/week-1-practice-quiz)*\n",
    "\n",
    "<!--TEASER_END-->"
   ]
  },
  {
   "cell_type": "markdown",
   "metadata": {},
   "source": [
    "# Question 4\n",
    "\n",
    "<img src=\"images/Screen Shot 2016-05-16 at 10.34.11 PM.png\">\n",
    "*Screenshot taken from [Coursera](https://www.coursera.org/learn/probability-intro/quiz/1lZY9/week-1-practice-quiz)*\n",
    "\n",
    "<!--TEASER_END-->"
   ]
  },
  {
   "cell_type": "markdown",
   "metadata": {},
   "source": [
    "# Question 5\n",
    "\n",
    "<img src=\"images/Screen Shot 2016-05-16 at 10.34.19 PM.png\">\n",
    "*Screenshot taken from [Coursera](https://www.coursera.org/learn/probability-intro/quiz/1lZY9/week-1-practice-quiz)*\n",
    "\n",
    "<!--TEASER_END-->"
   ]
  }
 ],
 "metadata": {
  "kernelspec": {
   "display_name": "Python 2",
   "language": "python",
   "name": "python2"
  },
  "language_info": {
   "codemirror_mode": {
    "name": "ipython",
    "version": 2
   },
   "file_extension": ".py",
   "mimetype": "text/x-python",
   "name": "python",
   "nbconvert_exporter": "python",
   "pygments_lexer": "ipython2",
   "version": "2.7.11"
  },
  "toc": {
   "toc_cell": false,
   "toc_number_sections": false,
   "toc_threshold": "8",
   "toc_window_display": false
  }
 },
 "nbformat": 4,
 "nbformat_minor": 0
}
