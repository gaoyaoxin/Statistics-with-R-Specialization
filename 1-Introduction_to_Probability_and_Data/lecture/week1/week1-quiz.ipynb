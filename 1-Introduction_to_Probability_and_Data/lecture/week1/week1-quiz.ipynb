{
 "cells": [
  {
   "cell_type": "markdown",
   "metadata": {},
   "source": [
    "# Week 1 Quiz"
   ]
  },
  {
   "cell_type": "markdown",
   "metadata": {},
   "source": [
    "# Question 1\n",
    "\n",
    "<img src=\"images/Screen Shot 2016-05-16 at 10.44.09 PM.png\">\n",
    "<img src=\"images/Screen Shot 2016-05-16 at 10.44.15 PM.png\">\n",
    "<img src=\"images/Screen Shot 2016-05-16 at 10.44.21 PM.png\">\n",
    "<img src=\"images/Screen Shot 2016-05-16 at 10.44.26 PM.png\">\n",
    "<img src=\"images/Screen Shot 2016-05-16 at 10.44.31 PM.png\">\n",
    "<img src=\"images/Screen Shot 2016-05-16 at 10.44.36 PM.png\">\n",
    "<img src=\"images/Screen Shot 2016-05-16 at 10.44.41 PM.png\">\n",
    "\n",
    "*Screenshot taken from [Coursera](https://www.coursera.org/learn/probability-intro/exam/AXYvG/week-1-quiz)*\n",
    "\n",
    "<!--TEASER_END-->"
   ]
  },
  {
   "cell_type": "code",
   "execution_count": null,
   "metadata": {
    "collapsed": true
   },
   "outputs": [],
   "source": []
  }
 ],
 "metadata": {
  "kernelspec": {
   "display_name": "Python 2",
   "language": "python",
   "name": "python2"
  },
  "language_info": {
   "codemirror_mode": {
    "name": "ipython",
    "version": 2
   },
   "file_extension": ".py",
   "mimetype": "text/x-python",
   "name": "python",
   "nbconvert_exporter": "python",
   "pygments_lexer": "ipython2",
   "version": "2.7.11"
  },
  "toc": {
   "toc_cell": false,
   "toc_number_sections": false,
   "toc_threshold": "8",
   "toc_window_display": false
  }
 },
 "nbformat": 4,
 "nbformat_minor": 0
}
