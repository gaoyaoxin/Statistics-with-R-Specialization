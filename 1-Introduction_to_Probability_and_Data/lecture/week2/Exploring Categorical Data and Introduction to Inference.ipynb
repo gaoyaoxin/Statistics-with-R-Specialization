{
 "cells": [
  {
   "cell_type": "markdown",
   "metadata": {
    "toc": "true"
   },
   "source": [
    "# Table of Contents\n",
    " <p><div class=\"lev1\"><a href=\"#Exploring-Categorical-Data\"><span class=\"toc-item-num\">1&nbsp;&nbsp;</span>Exploring Categorical Data</a></div><div class=\"lev2\"><a href=\"#Bar-plot\"><span class=\"toc-item-num\">1.1&nbsp;&nbsp;</span>Bar plot</a></div><div class=\"lev2\"><a href=\"#contingency-table\"><span class=\"toc-item-num\">1.2&nbsp;&nbsp;</span>contingency table</a></div><div class=\"lev2\"><a href=\"#segmented-bar-plot\"><span class=\"toc-item-num\">1.3&nbsp;&nbsp;</span>segmented bar plot</a></div><div class=\"lev1\"><a href=\"#relative-frequency-segmented-bar-plot\"><span class=\"toc-item-num\">2&nbsp;&nbsp;</span>relative frequency segmented bar plot</a></div><div class=\"lev2\"><a href=\"#mosaicplot\"><span class=\"toc-item-num\">2.1&nbsp;&nbsp;</span>mosaicplot</a></div><div class=\"lev2\"><a href=\"#side-by-side-box-plots\"><span class=\"toc-item-num\">2.2&nbsp;&nbsp;</span>side-by-side box plots</a></div><div class=\"lev1\"><a href=\"#Introduction-to-Inference\"><span class=\"toc-item-num\">3&nbsp;&nbsp;</span>Introduction to Inference</a></div><div class=\"lev2\"><a href=\"#Case-study\"><span class=\"toc-item-num\">3.1&nbsp;&nbsp;</span>Case study</a></div><div class=\"lev2\"><a href=\"#2-competing-claims\"><span class=\"toc-item-num\">3.2&nbsp;&nbsp;</span>2 competing claims</a></div><div class=\"lev2\"><a href=\"#Hypothesis-testing\"><span class=\"toc-item-num\">3.3&nbsp;&nbsp;</span>Hypothesis testing</a></div><div class=\"lev2\"><a href=\"#simulation-scheme\"><span class=\"toc-item-num\">3.4&nbsp;&nbsp;</span>simulation scheme</a></div>"
   ]
  },
  {
   "cell_type": "markdown",
   "metadata": {},
   "source": [
    "# Exploring Categorical Data"
   ]
  },
  {
   "cell_type": "markdown",
   "metadata": {},
   "source": [
    "## Bar plot"
   ]
  },
  {
   "cell_type": "markdown",
   "metadata": {},
   "source": [
    "- We usually consider the relative frequencies when evaluating the distributions of categorical variables. We can also make a bar plot of these relative frequencies, which look just like the original bar plot but just has the relative frequencies instead of the counts on the y-axis.\n",
    "- How are bar plots different than histograms? First, bar plots are used for displaying distributions of categorical variables, while histograms are used for numerical variables. Second, the axis in a histogram is a number line. Hence, the orders of the bars cannot be changed. While in a bar plot, the categories can be listed in any order, though some orderings make more sense than others, especially for original variables. "
   ]
  },
  {
   "cell_type": "markdown",
   "metadata": {},
   "source": [
    "<img src=\"images/Screen Shot 2016-05-27 at 9.51.11 PM.png\">\n",
    "<img src=\"images/Screen Shot 2016-05-27 at 9.51.26 PM.png\">\n",
    "\n",
    "*Screenshot taken from [Coursera](https://www.coursera.org/learn/probability-intro/lecture/vEjt0/exploring-categorical-variables) 1:45*\n",
    "\n",
    "<!--TEASER_END-->"
   ]
  },
  {
   "cell_type": "markdown",
   "metadata": {},
   "source": [
    "## contingency table"
   ]
  },
  {
   "cell_type": "markdown",
   "metadata": {},
   "source": [
    "<img src=\"images/Screen Shot 2016-05-27 at 10.42.52 PM.png\">\n",
    "\n",
    "*Screenshot taken from [Coursera](https://www.coursera.org/learn/probability-intro/lecture/vEjt0/exploring-categorical-variables) 4:23*\n",
    "\n",
    "<!--TEASER_END-->"
   ]
  },
  {
   "cell_type": "markdown",
   "metadata": {},
   "source": [
    "## segmented bar plot"
   ]
  },
  {
   "cell_type": "markdown",
   "metadata": {},
   "source": [
    "- An obvious choice for visualizing two categorical variables is a segmented bar plot. Segmented bar plots are useful for visualizing conditional frequency distributions. In other words, the distribution of the levels of one variable, the response variable, conditioned on the levels of the other, the explanatory variable. \n",
    "- The heights of the bars indicate the numbers of respondents in various income categories. And the bars are segmented by color to indicate the numbers of those who think it's very difficult to save money to not at all. Note that this are frequencies, in other words, counts, and not relative frequencies. \n",
    "- So, while segmented bar plots are useful for visualizing frequency distributions, in order to explore the relationship between these variables, we need a visualization of the relative frequencies. "
   ]
  },
  {
   "cell_type": "markdown",
   "metadata": {},
   "source": [
    "<img src=\"images/Screen Shot 2016-05-27 at 10.44.01 PM.png\">\n",
    "\n",
    "*Screenshot taken from [Coursera](https://www.coursera.org/learn/probability-intro/lecture/vEjt0/exploring-categorical-variables) 4:31*\n",
    "\n",
    "<!--TEASER_END-->"
   ]
  },
  {
   "cell_type": "markdown",
   "metadata": {},
   "source": [
    "# relative frequency segmented bar plot"
   ]
  },
  {
   "cell_type": "markdown",
   "metadata": {},
   "source": [
    "- So, one alternative is to plot the relative frequencies. This plot basically visualizes the percentages we had calculated earlier. Such as 63% of those who make less than 40,000 per year think it's very difficult to save money etcetera. "
   ]
  },
  {
   "cell_type": "markdown",
   "metadata": {},
   "source": [
    "<img src=\"images/Screen Shot 2016-05-27 at 10.45.48 PM.png\">\n",
    "\n",
    "*Screenshot taken from [Coursera](https://www.coursera.org/learn/probability-intro/lecture/vEjt0/exploring-categorical-variables) 5:33*\n",
    "\n",
    "<!--TEASER_END-->"
   ]
  },
  {
   "cell_type": "markdown",
   "metadata": {},
   "source": [
    "## mosaicplot"
   ]
  },
  {
   "cell_type": "markdown",
   "metadata": {},
   "source": [
    "- A mosaic plot like this one, displays the distribution of feelings about difficulty of saving money, conditional on income as well. It also shows the marginal distribution of income, too. \n",
    "- So, let's start with the marginal distribution. \n",
    "- The width of the bars is what's telling us about the marginal distribution of income. We can see that more people make less than 40,000 have been surveyed than any other. \n",
    "- Now, let's look at the breakdown of the individual bars. Among those who make less than 40,000, we had seen that 63% think it's very difficult to save money. These respondents are represented by the segment in the first bar. Similarly, 43% of those who make between 40 and 80,000, and 25% of those who make more than 80,000, and 35% of those who refused to share their income, are represented in the first segment within their respective bars. \n",
    "- Visually, without relying on the relative percentages we calculated earlier, we can see that the length of the segments representing those who think it's very difficult to save money vary by income level. Indicating a difference of opinion among members of different income groups, hence suggesting a relationship between the two variables. We could, of course, examine the other levels of the opinion variable as well. "
   ]
  },
  {
   "cell_type": "markdown",
   "metadata": {},
   "source": [
    "<img src=\"images/Screen Shot 2016-05-27 at 10.49.19 PM.png\">\n",
    "\n",
    "*Screenshot taken from [Coursera](https://www.coursera.org/learn/probability-intro/lecture/vEjt0/exploring-categorical-variables) 6:52*\n",
    "\n",
    "<!--TEASER_END-->"
   ]
  },
  {
   "cell_type": "markdown",
   "metadata": {},
   "source": [
    "## side-by-side box plots"
   ]
  },
  {
   "cell_type": "markdown",
   "metadata": {},
   "source": [
    "- So far in this video we discussed how to describe the distribution of a single categorical variable, and how to evaluate the relationship between two categorical variables. To wrap up our discussion on exploratory data analysis with categorical variables, let's talk about one last type of relationship. The relationship between a numerical variable and a categorical variable. \n",
    "- This type of relationship is something we usually consider when comparing the distribution of a numerical variable across the levels of a categorical variable. \n",
    "- For example, here we have a box plot of number of clubs college students are involved with and their class year. The medians are pretty consistent, indicating that on average, students belong to roughly equal numbers of clubs regardless of their year. The variability is higher for first-year and senior students, while much lower for sophomores and juniors, as indicated by the lower IQRs. And among the sophomores and juniors, there are some students who belong to unusually low or high numbers of clubs. The distributions across the class years are pretty similar, suggesting that number of clubs students belong to might be independent of their class year. "
   ]
  },
  {
   "cell_type": "markdown",
   "metadata": {},
   "source": [
    "<img src=\"images/Screen Shot 2016-05-27 at 10.53.37 PM.png\">\n",
    "\n",
    "*Screenshot taken from [Coursera](https://www.coursera.org/learn/probability-intro/lecture/vEjt0/exploring-categorical-variables) 8:04*\n",
    "\n",
    "<!--TEASER_END-->"
   ]
  },
  {
   "cell_type": "markdown",
   "metadata": {},
   "source": [
    "# Introduction to Inference"
   ]
  },
  {
   "cell_type": "markdown",
   "metadata": {},
   "source": [
    "## Case study"
   ]
  },
  {
   "cell_type": "markdown",
   "metadata": {},
   "source": [
    "We will discuss a case study on gender discrimination, in promotion decisions. And use this case study for a lite introduction to statistical inference via simulation. \n",
    "- In 1972, as part of a study on gender discrimination, 48 male bank supervisors were each given the same personnel file, and asked to judge whether the person should be promoted to a branch manager job that was described as routine. The files were identical except that half of the supervisors had files showing the person was male while the other half had files showing the person was female. \n",
    "- It was randomly determined which supervisors got male applications and which got female applications. Of the 48 files reviewed 35 were promoted. The study is testing whether females are unfairly discriminated against. "
   ]
  },
  {
   "cell_type": "markdown",
   "metadata": {},
   "source": [
    "<img src=\"images/Screen Shot 2016-05-27 at 10.55.35 PM.png\">\n",
    "<img src=\"images/Screen Shot 2016-05-27 at 10.56.23 PM.png\">\n",
    "\n",
    "*Screenshot taken from [Coursera](https://www.coursera.org/learn/probability-intro/lecture/e6IzY/introduction-to-inference) 0:51*\n",
    "\n",
    "<!--TEASER_END-->"
   ]
  },
  {
   "cell_type": "markdown",
   "metadata": {},
   "source": [
    "- Let's take a look at the data.\n",
    "The percentage of males promoted is 21 out of 24, roughly 88%. And the percentage of females promoted is 14 out of 24, roughly 58%. So there's a considerable difference between the proportions of males and females promoted in this study. "
   ]
  },
  {
   "cell_type": "markdown",
   "metadata": {},
   "source": [
    "<img src=\"images/Screen Shot 2016-05-27 at 10.58.18 PM.png\">\n",
    "<img src=\"images/Screen Shot 2016-05-27 at 10.58.24 PM.png\">\n",
    "\n",
    "*Screenshot taken from [Coursera](https://www.coursera.org/learn/probability-intro/lecture/e6IzY/introduction-to-inference) 1:10*\n",
    "\n",
    "<!--TEASER_END-->"
   ]
  },
  {
   "cell_type": "markdown",
   "metadata": {},
   "source": [
    "## 2 competing claims"
   ]
  },
  {
   "cell_type": "markdown",
   "metadata": {},
   "source": [
    "There are two possible explanations as to what might be going on in this study. And these are our two competing claims. \n",
    "- One, there is nothing going on. Promotion and gender are independent. There's no gender discrimination, and the observed difference in proportions is simply due to chance. This is our **null hypothesis**. \n",
    "- And two, there is something going on. Promotion and gender are dependent on each other. There is gender discrimination, that observed difference in proportions is not due to chance. This is the **alternative hypothesis**. "
   ]
  },
  {
   "cell_type": "markdown",
   "metadata": {},
   "source": [
    "<img src=\"images/Screen Shot 2016-05-27 at 11.00.37 PM.png\">\n",
    "\n",
    "*Screenshot taken from [Coursera](https://www.coursera.org/learn/probability-intro/lecture/e6IzY/introduction-to-inference) 1:43*\n",
    "\n",
    "<!--TEASER_END-->"
   ]
  },
  {
   "cell_type": "markdown",
   "metadata": {},
   "source": [
    "## Hypothesis testing"
   ]
  },
  {
   "cell_type": "markdown",
   "metadata": {},
   "source": [
    "- Hypothesis testing is very much like a court trial in the US. The null hypothesis says that the defendant is innocent and the alternative hypothesis says that the defendant is guilty. We then present evidence or, or in other words, collect data. Then, we judge this evidence and ask ourselves the question, could these data plausibly have happened by chance if the null hypothesis were true? \n",
    "- If the data were likely to have occurred under the assumption that the null hypothesis were true, then we would fail to reject the null hypothesis, and state that the evidence is not sufficient to suggest that the defendant is guilty. Note that when this happens, the jury returns with a verdict of not guilty. The jury does not say the defendant is innocent, just that there is not enough evidence to convict. The defendant may in fact be innocent but the jury has no way of being sure. \n",
    "- Said statistically, we fail to reject the null hypothesis. We never declare the null hypothesis to be true. Because we do not know and cannot prove whether it's true or not. Therefore, we also never say that we would accept the null hypothesis. If the data were very unlikely to have occurred, then the evidence raises more than a reasonable doubt in our minds about the null hypothesis, and hence we reject the null hypothesis in favor of the alternative hypothesis of guilty. In a trial, the burden of proof is on the prosecution. \n",
    "- In a hypothesis test, the burden of proof is on the unusual claim. The null hypothesis is the ordinary state of affairs, the status quo. So it's the alternative hypothesis that we must consider unusual, and for which we must gather evidence. "
   ]
  },
  {
   "cell_type": "markdown",
   "metadata": {},
   "source": [
    "<img src=\"images/Screen Shot 2016-05-27 at 11.04.26 PM.png\">\n",
    "<img src=\"images/Screen Shot 2016-05-27 at 11.07.05 PM.png\">\n",
    "\n",
    "*Screenshot taken from [Coursera](https://www.coursera.org/learn/probability-intro/lecture/e6IzY/introduction-to-inference) 3:12*\n",
    "\n",
    "<!--TEASER_END-->"
   ]
  },
  {
   "cell_type": "markdown",
   "metadata": {},
   "source": [
    "## simulation scheme"
   ]
  },
  {
   "cell_type": "markdown",
   "metadata": {
    "collapsed": true
   },
   "source": [
    "<img src=\"images/Screen Shot 2016-05-30 at 5.02.15 PM.png\">\n",
    "\n",
    "*Screenshot taken from [Coursera](https://www.coursera.org/learn/probability-intro/lecture/e6IzY/introduction-to-inference) 6:35*\n",
    "\n",
    "<!--TEASER_END-->"
   ]
  },
  {
   "cell_type": "markdown",
   "metadata": {},
   "source": [
    "<img src=\"images/Screen Shot 2016-05-30 at 5.07.17 PM.png\">\n",
    "\n",
    "*Screenshot taken from [Coursera](https://www.coursera.org/learn/probability-intro/lecture/e6IzY/introduction-to-inference) 8:02*\n",
    "\n",
    "<!--TEASER_END-->"
   ]
  },
  {
   "cell_type": "markdown",
   "metadata": {},
   "source": [
    "<img src=\"images/Screen Shot 2016-05-30 at 5.11.30 PM.png\">\n",
    "\n",
    "*Screenshot taken from [Coursera](https://www.coursera.org/learn/probability-intro/lecture/e6IzY/introduction-to-inference) 12:07*\n",
    "\n",
    "<!--TEASER_END-->"
   ]
  }
 ],
 "metadata": {
  "kernelspec": {
   "display_name": "Python 2",
   "language": "python",
   "name": "python2"
  },
  "language_info": {
   "codemirror_mode": {
    "name": "ipython",
    "version": 2
   },
   "file_extension": ".py",
   "mimetype": "text/x-python",
   "name": "python",
   "nbconvert_exporter": "python",
   "pygments_lexer": "ipython2",
   "version": "2.7.11"
  },
  "toc": {
   "toc_cell": true,
   "toc_number_sections": true,
   "toc_section_display": "none",
   "toc_threshold": "8",
   "toc_window_display": true
  },
  "toc_position": {
   "height": "150px",
   "left": "1319.45px",
   "right": "20px",
   "top": "120px",
   "width": "178px"
  }
 },
 "nbformat": 4,
 "nbformat_minor": 0
}
