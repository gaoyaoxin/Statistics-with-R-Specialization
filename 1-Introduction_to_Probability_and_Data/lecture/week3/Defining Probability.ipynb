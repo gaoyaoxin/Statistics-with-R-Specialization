{
 "cells": [
  {
   "cell_type": "markdown",
   "metadata": {
    "toc": "true"
   },
   "source": [
    "# Table of Contents\n",
    " <p><div class=\"lev1\"><a href=\"#Introduction\"><span class=\"toc-item-num\">1&nbsp;&nbsp;</span>Introduction</a></div><div class=\"lev2\"><a href=\"#random-process\"><span class=\"toc-item-num\">1.1&nbsp;&nbsp;</span>random process</a></div><div class=\"lev2\"><a href=\"#probability\"><span class=\"toc-item-num\">1.2&nbsp;&nbsp;</span>probability</a></div><div class=\"lev2\"><a href=\"#law-of-large-numbers\"><span class=\"toc-item-num\">1.3&nbsp;&nbsp;</span>law of large numbers</a></div><div class=\"lev1\"><a href=\"#Disjoint-Events-+-General-Addition-Rule\"><span class=\"toc-item-num\">2&nbsp;&nbsp;</span>Disjoint Events + General Addition Rule</a></div><div class=\"lev2\"><a href=\"#union-of-disjoint-events\"><span class=\"toc-item-num\">2.1&nbsp;&nbsp;</span>union of disjoint events</a></div><div class=\"lev2\"><a href=\"#complementary-events\"><span class=\"toc-item-num\">2.2&nbsp;&nbsp;</span>complementary events</a></div><div class=\"lev1\"><a href=\"#Independence\"><span class=\"toc-item-num\">3&nbsp;&nbsp;</span>Independence</a></div><div class=\"lev1\"><a href=\"#Probability-Examples\"><span class=\"toc-item-num\">4&nbsp;&nbsp;</span>Probability Examples</a></div><div class=\"lev1\"><a href=\"#Disjoint-vs-Independent\"><span class=\"toc-item-num\">5&nbsp;&nbsp;</span>Disjoint vs Independent</a></div>"
   ]
  },
  {
   "cell_type": "markdown",
   "metadata": {},
   "source": [
    "# Introduction"
   ]
  },
  {
   "cell_type": "markdown",
   "metadata": {},
   "source": [
    "## random process"
   ]
  },
  {
   "cell_type": "markdown",
   "metadata": {},
   "source": [
    "<img src=\"images/Screen Shot 2016-05-30 at 5.16.48 PM.png\">\n",
    "\n",
    "*Screenshot taken from [Coursera](https://www.coursera.org/learn/probability-intro/lecture/07vL4/introduction) 1:00*\n",
    "\n",
    "<!--TEASER_END-->"
   ]
  },
  {
   "cell_type": "markdown",
   "metadata": {},
   "source": [
    "- Examples of random processes are coin tosses, die rolls, the shuffle mode on your music player, or the stock market."
   ]
  },
  {
   "cell_type": "markdown",
   "metadata": {},
   "source": [
    "## probability"
   ]
  },
  {
   "cell_type": "markdown",
   "metadata": {},
   "source": [
    "- A traditional definition of probability is a relative frequency. This is the **frequentist interpretation** of probability, where the probability of an outcome is the proportion of the times the outcome would occur if we observed the random process an infinite number of times. "
   ]
  },
  {
   "cell_type": "markdown",
   "metadata": {},
   "source": [
    "- An alternative interpretation is the **Bayesian interpretation**. A Bayesian interprets a probability as a subjective degree of belief. For the same event, two separate people could have different viewpoints and so assign different probabilities to it. This interpretation allows for prior information to be integrated into the inferential framework. Bayesian methods have been largely popularized by revolutionary advances in computational technology and methods during the last 20 years."
   ]
  },
  {
   "cell_type": "markdown",
   "metadata": {},
   "source": [
    "<img src=\"images/Screen Shot 2016-05-30 at 5.20.11 PM.png\">\n",
    "\n",
    "*Screenshot taken from [Coursera](https://www.coursera.org/learn/probability-intro/lecture/07vL4/introduction) 2:40*\n",
    "\n",
    "<!--TEASER_END-->"
   ]
  },
  {
   "cell_type": "markdown",
   "metadata": {},
   "source": [
    "## law of large numbers"
   ]
  },
  {
   "cell_type": "markdown",
   "metadata": {},
   "source": [
    "- The law of large numbers states that as more observations are collected, the proportion of occurrences with a particular outcome converges to the probability of that outcome. \n",
    "- This is why, as we roll a fair die many times, we expect the proportion of say, fives, to settle down to one-sixth. While earlier in the sequence, with too few rolls, we might not exactly get one in six fives. For example, if you roll a die say, six times, there's no guarantee that you're going to get at least one five in there. But if you roll the die say, 600 or 6,000 times, you would expect to see about one-sixth of the time to get a five. Similarly, why it would be more surprising to see three heads in 1,000 coin flips, than three heads in 10 or 100 coin flips."
   ]
  },
  {
   "cell_type": "markdown",
   "metadata": {
    "collapsed": true
   },
   "source": [
    "<img src=\"images/Screen Shot 2016-05-31 at 8.55.11 AM.png\">\n",
    "<img src=\"images/Screen Shot 2016-05-31 at 8.55.33 AM.png\">\n",
    "\n",
    "*Screenshot taken from [Coursera](https://www.coursera.org/learn/probability-intro/lecture/07vL4/introduction) 3:40*\n",
    "\n",
    "<!--TEASER_END-->"
   ]
  },
  {
   "cell_type": "markdown",
   "metadata": {},
   "source": [
    "- Say you toss a coin ten times, and it lands on heads each time. What do you think the chance is that another head will come up on the next toss? 0.5, less than 0.5, or more than 0.5? \n",
    "- The probability is still 50%. So, the probability of heads on the11th toss is the same as the probability of heads on the 10th toss, or any previous tosses, which is 0.5. Each toss is independent, hence, the outcome of the next toss does not depend on the outcome of the previous toss. Another way of thinking about it is that the coin is memoryless. It doesn't remember what happened before and say to itself, well let me roll over on the other side next time. In other words, the coin is not due for a tail. "
   ]
  },
  {
   "cell_type": "markdown",
   "metadata": {},
   "source": [
    "<img src=\"images/Screen Shot 2016-05-31 at 9.04.55 AM.png\">\n",
    "\n",
    "*Screenshot taken from [Coursera](https://www.coursera.org/learn/probability-intro/lecture/07vL4/introduction) 4:46*\n",
    "\n",
    "<!--TEASER_END-->"
   ]
  },
  {
   "cell_type": "markdown",
   "metadata": {},
   "source": [
    "# Disjoint Events + General Addition Rule"
   ]
  },
  {
   "cell_type": "markdown",
   "metadata": {
    "collapsed": true
   },
   "source": [
    "- **Disjoint events** by definition, cannot happen at the same time. A synonym for this term is **mutually exclusive**. \n",
    "- For example, the outcome of a single coin toss cannot be a head and a tail. A student cannot both fail and pass a class. A single card drawn from a deck cannot be an ace and a queen at the same time.\n",
    "- In Venn diagram representation, where we represent each event by these circles, if events A and B are disjoint we end up with two circles that don't touch each other, which indicates that the probability of event A and B happening at the same time. So probability A and B is 0. In other words, the events don't joint hence the term disjoint. \n",
    "- **Non-disjoint events** on the other hand can happen at the same time. A Venn diagram representation of events A and B that are non disjoint we have two circles that over lap, in other words join, which indicates that the probability of event A and B happening at the same time is non 0. So it's some number between 0 and 1. "
   ]
  },
  {
   "cell_type": "markdown",
   "metadata": {},
   "source": [
    "<img src=\"images/Screen Shot 2016-06-01 at 11.46.35 AM.png\">\n",
    "\n",
    "*Screenshot taken from [Coursera](https://www.coursera.org/learn/probability-intro/lecture/qaYwc/disjoint-events-general-addition-rule) 1:20*\n",
    "\n",
    "<!--TEASER_END-->"
   ]
  },
  {
   "cell_type": "markdown",
   "metadata": {},
   "source": [
    "## union of disjoint events"
   ]
  },
  {
   "cell_type": "markdown",
   "metadata": {},
   "source": [
    "<img src=\"images/Screen Shot 2016-06-01 at 11.54.37 AM.png\">\n",
    "\n",
    "*Screenshot taken from [Coursera](https://www.coursera.org/learn/probability-intro/lecture/qaYwc/disjoint-events-general-addition-rule) 2:47*\n",
    "\n",
    "<!--TEASER_END-->"
   ]
  },
  {
   "cell_type": "markdown",
   "metadata": {
    "collapsed": true
   },
   "source": [
    "<img src=\"images/Screen Shot 2016-06-01 at 2.43.33 PM.png\">\n",
    "\n",
    "*Screenshot taken from [Coursera](https://www.coursera.org/learn/probability-intro/lecture/qaYwc/disjoint-events-general-addition-rule) 5:11*\n",
    "\n",
    "<!--TEASER_END-->"
   ]
  },
  {
   "cell_type": "markdown",
   "metadata": {},
   "source": [
    "## complementary events"
   ]
  },
  {
   "cell_type": "markdown",
   "metadata": {},
   "source": [
    "<img src=\"images/Screen Shot 2016-06-01 at 2.50.11 PM.png\">\n",
    "\n",
    "*Screenshot taken from [Coursera](https://www.coursera.org/learn/probability-intro/lecture/qaYwc/disjoint-events-general-addition-rule) 9:28*\n",
    "\n",
    "<!--TEASER_END-->"
   ]
  },
  {
   "cell_type": "markdown",
   "metadata": {},
   "source": [
    "# Independence"
   ]
  },
  {
   "cell_type": "markdown",
   "metadata": {},
   "source": [
    "<img src=\"images/Screen Shot 2016-06-01 at 2.56.10 PM.png\">\n",
    "\n",
    "*Screenshot taken from [Coursera](https://www.coursera.org/learn/probability-intro/lecture/D1m0l/independence) 3:55*\n",
    "\n",
    "<!--TEASER_END-->"
   ]
  },
  {
   "cell_type": "markdown",
   "metadata": {
    "collapsed": true
   },
   "source": [
    "<img src=\"images/Screen Shot 2016-06-01 at 8.11.24 PM.png\">\n",
    "\n",
    "*Screenshot taken from [Coursera](https://www.coursera.org/learn/probability-intro/lecture/D1m0l/independence) 5:24*\n",
    "\n",
    "<!--TEASER_END-->"
   ]
  },
  {
   "cell_type": "markdown",
   "metadata": {},
   "source": [
    "<img src=\"images/Screen Shot 2016-06-01 at 8.22.47 PM.png\">\n",
    "<img src=\"images/Screen Shot 2016-06-01 at 8.22.54 PM.png\">\n",
    "\n",
    "*Screenshot taken from [Coursera](https://www.coursera.org/learn/probability-intro/lecture/D1m0l/independence) 9:57*\n",
    "\n",
    "<!--TEASER_END-->"
   ]
  },
  {
   "cell_type": "markdown",
   "metadata": {},
   "source": [
    "# Probability Examples"
   ]
  },
  {
   "cell_type": "markdown",
   "metadata": {},
   "source": [
    "<img src=\"images/Screen Shot 2016-06-01 at 8.27.15 PM.png\">\n",
    "<img src=\"images/Screen Shot 2016-06-01 at 8.27.21 PM.png\">\n",
    "\n",
    "*Screenshot taken from [Coursera](https://www.coursera.org/learn/probability-intro/lecture/GqcO0/probability-examples) 2:54*\n",
    "\n",
    "<!--TEASER_END-->"
   ]
  },
  {
   "cell_type": "markdown",
   "metadata": {},
   "source": [
    "<img src=\"images/Screen Shot 2016-06-01 at 8.34.38 PM.png\">\n",
    "\n",
    "*Screenshot taken from [Coursera](https://www.coursera.org/learn/probability-intro/lecture/GqcO0/probability-examples) 8:38*\n",
    "\n",
    "<!--TEASER_END-->"
   ]
  },
  {
   "cell_type": "markdown",
   "metadata": {},
   "source": [
    "<img src=\"images/Screen Shot 2016-06-01 at 8.55.13 PM.png\">\n",
    "<img src=\"images/Screen Shot 2016-06-01 at 8.55.20 PM.png\">\n",
    "\n",
    "*Screenshot taken from [Coursera](https://www.coursera.org/learn/probability-intro/lecture/GqcO0/probability-examples) 9:01*\n",
    "\n",
    "<!--TEASER_END-->"
   ]
  },
  {
   "cell_type": "markdown",
   "metadata": {},
   "source": [
    "# Disjoint vs Independent"
   ]
  },
  {
   "cell_type": "markdown",
   "metadata": {},
   "source": [
    "<img src=\"images/Screen Shot 2016-06-01 at 9.00.07 PM.png\">\n",
    "\n",
    "*Screenshot taken from [Coursera](https://www.coursera.org/learn/probability-intro/lecture/PSXBC/spotlight-disjoint-vs-independent) 2:17*\n",
    "\n",
    "<!--TEASER_END-->"
   ]
  }
 ],
 "metadata": {
  "kernelspec": {
   "display_name": "Python 2",
   "language": "python",
   "name": "python2"
  },
  "language_info": {
   "codemirror_mode": {
    "name": "ipython",
    "version": 2
   },
   "file_extension": ".py",
   "mimetype": "text/x-python",
   "name": "python",
   "nbconvert_exporter": "python",
   "pygments_lexer": "ipython2",
   "version": "2.7.11"
  },
  "toc": {
   "toc_cell": true,
   "toc_number_sections": true,
   "toc_threshold": "8",
   "toc_window_display": true
  }
 },
 "nbformat": 4,
 "nbformat_minor": 0
}
