{
 "cells": [
  {
   "cell_type": "markdown",
   "metadata": {
    "toc": "true"
   },
   "source": [
    "# Table of Contents\n",
    " <p><div class=\"lev1\"><a href=\"#Normal-Distribution\"><span class=\"toc-item-num\">1&nbsp;&nbsp;</span>Normal Distribution</a></div><div class=\"lev2\"><a href=\"#Normal-Distribution\"><span class=\"toc-item-num\">1.1&nbsp;&nbsp;</span>Normal Distribution</a></div><div class=\"lev2\"><a href=\"#standardizing-with-Z-scores\"><span class=\"toc-item-num\">1.2&nbsp;&nbsp;</span>standardizing with Z scores</a></div><div class=\"lev2\"><a href=\"#percentiles\"><span class=\"toc-item-num\">1.3&nbsp;&nbsp;</span>percentiles</a></div><div class=\"lev1\"><a href=\"#Evaluating-the-Normal-Distribution\"><span class=\"toc-item-num\">2&nbsp;&nbsp;</span>Evaluating the Normal Distribution</a></div>"
   ]
  },
  {
   "cell_type": "markdown",
   "metadata": {},
   "source": [
    "# Normal Distribution"
   ]
  },
  {
   "cell_type": "markdown",
   "metadata": {},
   "source": [
    "## Normal Distribution"
   ]
  },
  {
   "cell_type": "markdown",
   "metadata": {},
   "source": [
    "<img src=\"images/Screen Shot 2016-06-06 at 9.04.43 AM.png\">\n",
    "<img src=\"images/Screen Shot 2016-06-06 at 9.08.00 AM.png\">\n",
    "\n",
    "*Screenshot taken from [Coursera](https://www.coursera.org/learn/probability-intro/lecture/M71Nv/normal-distribution) 2:37*\n",
    "\n",
    "<!--TEASER_END-->"
   ]
  },
  {
   "cell_type": "markdown",
   "metadata": {},
   "source": [
    "<img src=\"images/Screen Shot 2016-06-06 at 9.09.41 AM.png\">\n",
    "\n",
    "*Screenshot taken from [Coursera](https://www.coursera.org/learn/probability-intro/lecture/M71Nv/normal-distribution) 3:31*\n",
    "\n",
    "<!--TEASER_END-->"
   ]
  },
  {
   "cell_type": "markdown",
   "metadata": {},
   "source": [
    "<img src=\"images/Screen Shot 2016-06-06 at 9.14.30 AM.png\">\n",
    "\n",
    "*Screenshot taken from [Coursera](https://www.coursera.org/learn/probability-intro/lecture/M71Nv/normal-distribution) 5:31*\n",
    "\n",
    "<!--TEASER_END-->"
   ]
  },
  {
   "cell_type": "markdown",
   "metadata": {},
   "source": [
    "<img src=\"images/Screen Shot 2016-06-06 at 9.14.36 AM.png\">\n",
    "<img src=\"images/Screen Shot 2016-06-06 at 9.14.41 AM.png\">\n",
    "\n",
    "*Screenshot taken from [Coursera](https://www.coursera.org/learn/probability-intro/lecture/M71Nv/normal-distribution) 6:50*\n",
    "\n",
    "<!--TEASER_END-->"
   ]
  },
  {
   "cell_type": "markdown",
   "metadata": {},
   "source": [
    "## standardizing with Z scores"
   ]
  },
  {
   "cell_type": "markdown",
   "metadata": {},
   "source": [
    "<img src=\"images/Screen Shot 2016-06-06 at 9.17.08 AM.png\">\n",
    "<img src=\"images/Screen Shot 2016-06-06 at 9.18.42 AM.png\">\n",
    "\n",
    "*Screenshot taken from [Coursera](https://www.coursera.org/learn/probability-intro/lecture/M71Nv/normal-distribution) 8:30*\n",
    "\n",
    "<!--TEASER_END-->"
   ]
  },
  {
   "cell_type": "markdown",
   "metadata": {},
   "source": [
    "## percentiles"
   ]
  },
  {
   "cell_type": "markdown",
   "metadata": {},
   "source": [
    "<img src=\"images/Screen Shot 2016-06-06 at 9.19.34 AM.png\">\n",
    "<img src=\"images/Screen Shot 2016-06-06 at 9.18.42 AM.png\">\n",
    "\n",
    "*Screenshot taken from [Coursera](https://www.coursera.org/learn/probability-intro/lecture/M71Nv/normal-distribution) 9:32*\n",
    "\n",
    "<!--TEASER_END-->"
   ]
  },
  {
   "cell_type": "markdown",
   "metadata": {
    "collapsed": true
   },
   "source": [
    "<img src=\"images/Screen Shot 2016-06-08 at 8.15.50 AM.png\">\n",
    "<img src=\"images/Screen Shot 2016-06-08 at 8.15.57 AM.png\">\n",
    "<img src=\"images/Screen Shot 2016-06-08 at 8.18.04 AM.png\">\n",
    "\n",
    "*Screenshot taken from [Coursera](https://www.coursera.org/learn/probability-intro/lecture/M71Nv/normal-distribution) 12:00*\n",
    "\n",
    "<!--TEASER_END-->"
   ]
  },
  {
   "cell_type": "markdown",
   "metadata": {},
   "source": [
    "<img src=\"images/Screen Shot 2016-06-08 at 8.21.10 AM.png\">\n",
    "<img src=\"images/Screen Shot 2016-06-08 at 8.24.24 AM.png\">\n",
    "<img src=\"images/Screen Shot 2016-06-08 at 8.30.32 AM.png\">\n",
    "\n",
    "*Screenshot taken from [Coursera](https://www.coursera.org/learn/probability-intro/lecture/M71Nv/normal-distribution) 14:38*\n",
    "\n",
    "<!--TEASER_END-->"
   ]
  },
  {
   "cell_type": "markdown",
   "metadata": {},
   "source": [
    "# Evaluating the Normal Distribution"
   ]
  },
  {
   "cell_type": "markdown",
   "metadata": {},
   "source": [
    "<img src=\"images/Screen Shot 2016-06-08 at 8.31.45 AM.png\">\n",
    "<img src=\"images/Screen Shot 2016-06-08 at 8.34.28 AM.png\">\n",
    "<img src=\"images/Screen Shot 2016-06-08 at 8.37.23 AM.png\">\n",
    "\n",
    "*Screenshot taken from [Coursera](https://www.coursera.org/learn/probability-intro/lecture/snzoA/evaluating-the-normal-distribution) 1:00*\n",
    "\n",
    "<!--TEASER_END-->"
   ]
  }
 ],
 "metadata": {
  "kernelspec": {
   "display_name": "Python 2",
   "language": "python",
   "name": "python2"
  },
  "language_info": {
   "codemirror_mode": {
    "name": "ipython",
    "version": 2
   },
   "file_extension": ".py",
   "mimetype": "text/x-python",
   "name": "python",
   "nbconvert_exporter": "python",
   "pygments_lexer": "ipython2",
   "version": "2.7.11"
  },
  "toc": {
   "toc_cell": true,
   "toc_number_sections": true,
   "toc_threshold": "8",
   "toc_window_display": true
  }
 },
 "nbformat": 4,
 "nbformat_minor": 0
}
