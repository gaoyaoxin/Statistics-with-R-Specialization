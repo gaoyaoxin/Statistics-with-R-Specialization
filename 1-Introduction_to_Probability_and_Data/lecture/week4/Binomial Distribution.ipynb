{
 "cells": [
  {
   "cell_type": "markdown",
   "metadata": {},
   "source": [
    "# Binomial Distribution"
   ]
  },
  {
   "cell_type": "markdown",
   "metadata": {},
   "source": [
    "## Bernouilli random variables"
   ]
  },
  {
   "cell_type": "markdown",
   "metadata": {},
   "source": [
    "<img src=\"images/Screen Shot 2016-06-08 at 8.55.42 AM.png\">\n",
    "<img src=\"images/Screen Shot 2016-06-08 at 8.59.59 AM.png\">\n",
    "\n",
    "\n",
    "*Screenshot taken from [Coursera](https://www.coursera.org/learn/probability-intro/lecture/kJ07f/binomial-distribution) 1:43*\n",
    "\n",
    "<!--TEASER_END-->"
   ]
  },
  {
   "cell_type": "markdown",
   "metadata": {},
   "source": [
    "## binomial distribution"
   ]
  },
  {
   "cell_type": "markdown",
   "metadata": {},
   "source": [
    "<img src=\"images/Screen Shot 2016-06-08 at 9.15.47 AM.png\">\n",
    "<img src=\"images/Screen Shot 2016-06-08 at 9.21.53 AM.png\">\n",
    "<img src=\"images/Screen Shot 2016-06-08 at 9.23.42 AM.png\">\n",
    "\n",
    "*Screenshot taken from [Coursera](https://www.coursera.org/learn/probability-intro/lecture/kJ07f/binomial-distribution) 7:17*\n",
    "\n",
    "<!--TEASER_END-->"
   ]
  },
  {
   "cell_type": "markdown",
   "metadata": {},
   "source": [
    "## binomial conditions"
   ]
  },
  {
   "cell_type": "markdown",
   "metadata": {},
   "source": [
    "<img src=\"images/Screen Shot 2016-06-08 at 9.25.38 AM.png\">\n",
    "<img src=\"images/Screen Shot 2016-06-08 at 9.25.44 AM.png\">\n",
    "\n",
    "*Screenshot taken from [Coursera](https://www.coursera.org/learn/probability-intro/lecture/kJ07f/binomial-distribution) 10:36*\n",
    "\n",
    "<!--TEASER_END-->"
   ]
  },
  {
   "cell_type": "markdown",
   "metadata": {},
   "source": [
    "## Examples"
   ]
  },
  {
   "cell_type": "markdown",
   "metadata": {
    "collapsed": true
   },
   "source": [
    "<img src=\"images/Screen Shot 2016-06-08 at 9.30.44 PM.png\">\n",
    "<img src=\"images/Screen Shot 2016-06-08 at 9.31.06 PM.png\">\n",
    "\n",
    "*Screenshot taken from [Coursera](https://www.coursera.org/learn/probability-intro/lecture/kJ07f/binomial-distribution) 12:08*\n",
    "\n",
    "<!--TEASER_END-->"
   ]
  },
  {
   "cell_type": "markdown",
   "metadata": {},
   "source": [
    "<img src=\"images/Screen Shot 2016-06-08 at 9.33.55 PM.png\">\n",
    "<img src=\"images/Screen Shot 2016-06-08 at 9.35.37 PM.png\">\n",
    "\n",
    "*Screenshot taken from [Coursera](https://www.coursera.org/learn/probability-intro/lecture/kJ07f/binomial-distribution) 14:00*\n",
    "\n",
    "<!--TEASER_END-->"
   ]
  },
  {
   "cell_type": "markdown",
   "metadata": {},
   "source": [
    "<img src=\"images/Screen Shot 2016-06-08 at 9.50.42 PM.png\">\n",
    "<img src=\"images/Screen Shot 2016-06-08 at 9.54.16 PM.png\">\n",
    "\n",
    "*Screenshot taken from [Coursera](https://www.coursera.org/learn/probability-intro/lecture/kJ07f/binomial-distribution) 15:59*\n",
    "\n",
    "<!--TEASER_END-->"
   ]
  },
  {
   "cell_type": "markdown",
   "metadata": {},
   "source": [
    "# Normal Approximation to Binomial"
   ]
  },
  {
   "cell_type": "markdown",
   "metadata": {},
   "source": [
    "<img src=\"images/Screen Shot 2016-06-08 at 10.25.07 PM.png\">\n",
    "<img src=\"images/Screen Shot 2016-06-08 at 10.28.20 PM.png\">\n",
    "<img src=\"images/Screen Shot 2016-06-08 at 10.31.00 PM.png\">\n",
    "\n",
    "*Screenshot taken from [Coursera](https://www.coursera.org/learn/probability-intro/lecture/2sosk/normal-approximation-to-binomial) 4:04*\n",
    "\n",
    "<!--TEASER_END-->"
   ]
  },
  {
   "cell_type": "markdown",
   "metadata": {
    "collapsed": true
   },
   "source": [
    "<img src=\"images/Screen Shot 2016-06-08 at 11.13.29 PM.png\">\n",
    "<img src=\"images/Screen Shot 2016-06-08 at 11.13.37 PM.png\">\n",
    "<img src=\"images/Screen Shot 2016-06-09 at 9.56.49 AM.png\">\n",
    "\n",
    "*Screenshot taken from [Coursera](https://www.coursera.org/learn/probability-intro/lecture/2sosk/normal-approximation-to-binomial) 4:04*\n",
    "\n",
    "<!--TEASER_END-->"
   ]
  },
  {
   "cell_type": "markdown",
   "metadata": {
    "collapsed": true
   },
   "source": [
    "# Working with the Binomial Distribution"
   ]
  },
  {
   "cell_type": "markdown",
   "metadata": {},
   "source": [
    "## Example 1"
   ]
  },
  {
   "cell_type": "markdown",
   "metadata": {},
   "source": [
    "<img src=\"images/Screen Shot 2016-06-09 at 10.00.33 AM.png\">\n",
    "<img src=\"images/Screen Shot 2016-06-09 at 10.00.38 AM.png\">\n",
    "<img src=\"images/Screen Shot 2016-06-09 at 10.00.48 AM.png\">\n",
    "\n",
    "*Screenshot taken from [Coursera](https://www.coursera.org/learn/probability-intro/lecture/yef4b/working-with-the-binomial-distribution) 2:05*\n",
    "\n",
    "<!--TEASER_END-->"
   ]
  },
  {
   "cell_type": "markdown",
   "metadata": {},
   "source": [
    "<img src=\"images/Screen Shot 2016-06-09 at 10.03.23 AM.png\">\n",
    "<img src=\"images/Screen Shot 2016-06-09 at 10.03.32 AM.png\">\n",
    "\n",
    "*Screenshot taken from [Coursera](https://www.coursera.org/learn/probability-intro/lecture/yef4b/working-with-the-binomial-distribution) 2:59*\n",
    "\n",
    "<!--TEASER_END-->"
   ]
  },
  {
   "cell_type": "markdown",
   "metadata": {},
   "source": [
    "## Example 2"
   ]
  },
  {
   "cell_type": "markdown",
   "metadata": {},
   "source": [
    "<img src=\"images/Screen Shot 2016-06-09 at 10.05.56 AM.png\">\n",
    "\n",
    "*Screenshot taken from [Coursera](https://www.coursera.org/learn/probability-intro/lecture/yef4b/working-with-the-binomial-distribution) 4:20*\n",
    "\n",
    "<!--TEASER_END-->"
   ]
  },
  {
   "cell_type": "markdown",
   "metadata": {},
   "source": [
    "## Example 3"
   ]
  },
  {
   "cell_type": "markdown",
   "metadata": {},
   "source": [
    "<img src=\"images/Screen Shot 2016-06-09 at 10.08.09 AM.png\">\n",
    "\n",
    "*Screenshot taken from [Coursera](https://www.coursera.org/learn/probability-intro/lecture/yef4b/working-with-the-binomial-distribution) 5:54*\n",
    "\n",
    "<!--TEASER_END-->"
   ]
  },
  {
   "cell_type": "markdown",
   "metadata": {},
   "source": [
    "## Example 4"
   ]
  },
  {
   "cell_type": "markdown",
   "metadata": {},
   "source": [
    "<img src=\"images/Screen Shot 2016-06-09 at 10.10.56 AM.png\">\n",
    "<img src=\"images/Screen Shot 2016-06-09 at 10.11.01 AM.png\">\n",
    "<img src=\"images/Screen Shot 2016-06-09 at 10.11.11 AM.png\">\n",
    "\n",
    "*Screenshot taken from [Coursera](https://www.coursera.org/learn/probability-intro/lecture/yef4b/working-with-the-binomial-distribution) 8:30*\n",
    "\n",
    "<!--TEASER_END-->"
   ]
  }
 ],
 "metadata": {
  "kernelspec": {
   "display_name": "Python 2",
   "language": "python",
   "name": "python2"
  },
  "language_info": {
   "codemirror_mode": {
    "name": "ipython",
    "version": 2
   },
   "file_extension": ".py",
   "mimetype": "text/x-python",
   "name": "python",
   "nbconvert_exporter": "python",
   "pygments_lexer": "ipython2",
   "version": "2.7.11"
  },
  "toc": {
   "toc_cell": false,
   "toc_number_sections": true,
   "toc_threshold": "8",
   "toc_window_display": true
  }
 },
 "nbformat": 4,
 "nbformat_minor": 0
}
