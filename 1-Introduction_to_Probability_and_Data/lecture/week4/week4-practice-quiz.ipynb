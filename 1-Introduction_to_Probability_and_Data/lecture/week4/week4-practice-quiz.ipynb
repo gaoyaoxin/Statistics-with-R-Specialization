{
 "cells": [
  {
   "cell_type": "markdown",
   "metadata": {
    "collapsed": true
   },
   "source": [
    "# Question 1\n",
    "\n",
    "<img src=\"images/Screen Shot 2016-06-09 at 9.49.16 PM.png\">\n",
    "\n",
    "*Screenshot taken from [Coursera](https://www.coursera.org/learn/probability-intro/quiz/w5Fn0/week-4-practice-quiz)*\n",
    "\n",
    "<!--TEASER_END-->"
   ]
  },
  {
   "cell_type": "markdown",
   "metadata": {},
   "source": [
    "# Question 2\n",
    "\n",
    "<img src=\"images/Screen Shot 2016-06-09 at 9.50.00 PM.png\">\n",
    "\n",
    "*Screenshot taken from [Coursera](https://www.coursera.org/learn/probability-intro/quiz/w5Fn0/week-4-practice-quiz)*\n",
    "\n",
    "<!--TEASER_END-->"
   ]
  },
  {
   "cell_type": "markdown",
   "metadata": {},
   "source": [
    "**Answer**\n",
    "\n",
    "P(k=2) = $\\large\\frac{3!}{2! \\times 1!} \\times 0.51^2 \\times 0.49^1$\n",
    "= $3 \\times 0.2601 \\times 0.49$ = 0.382\n",
    "\n",
    "<img src=\"images/Screen Shot 2016-06-09 at 9.01.42 PM.png\">"
   ]
  },
  {
   "cell_type": "markdown",
   "metadata": {},
   "source": [
    "# Question 3\n",
    "\n",
    "<img src=\"images/Screen Shot 2016-06-09 at 9.50.14 PM.png\">\n",
    "\n",
    "*Screenshot taken from [Coursera](https://www.coursera.org/learn/probability-intro/quiz/w5Fn0/week-4-practice-quiz)*\n",
    "\n",
    "<!--TEASER_END-->"
   ]
  },
  {
   "cell_type": "markdown",
   "metadata": {},
   "source": [
    "# Question 4\n",
    "\n",
    "<img src=\"images/Screen Shot 2016-06-09 at 9.50.58 PM.png\">\n",
    "\n",
    "*Screenshot taken from [Coursera](https://www.coursera.org/learn/probability-intro/quiz/w5Fn0/week-4-practice-quiz)*\n",
    "\n",
    "<!--TEASER_END-->"
   ]
  },
  {
   "cell_type": "markdown",
   "metadata": {},
   "source": [
    "**Answer**\n",
    "\n",
    "<img src=\"images/Screen Shot 2016-06-09 at 9.08.17 PM.png\">"
   ]
  },
  {
   "cell_type": "markdown",
   "metadata": {},
   "source": [
    "# Question 5\n",
    "\n",
    "<img src=\"images/Screen Shot 2016-06-09 at 9.51.09 PM.png\">\n",
    "<img src=\"images/Screen Shot 2016-06-09 at 9.55.08 PM.png\">\n",
    "\n",
    "*Screenshot taken from [Coursera](https://www.coursera.org/learn/probability-intro/quiz/w5Fn0/week-4-practice-quiz)*\n",
    "\n",
    "<!--TEASER_END-->"
   ]
  },
  {
   "cell_type": "markdown",
   "metadata": {},
   "source": [
    "# Question 6\n",
    "\n",
    "<img src=\"images/Screen Shot 2016-06-09 at 9.51.14 PM.png\">\n",
    "\n",
    "*Screenshot taken from [Coursera](https://www.coursera.org/learn/probability-intro/quiz/w5Fn0/week-4-practice-quiz)*\n",
    "\n",
    "<!--TEASER_END-->"
   ]
  },
  {
   "cell_type": "markdown",
   "metadata": {},
   "source": [
    "**Answer**\n",
    "\n",
    "- This is a problem of conditional probability\n",
    "\n",
    "- P(identical) = 0.3\n",
    "    - P(both females | identical) = 0.5\n",
    "    - P(both males | identical) = 0.5\n",
    "\n",
    "=> P(both females and identical) = $0.3 \\times 0.5$ = 0.15\n",
    "\n",
    "- P(fraternal) = 0.7\n",
    "    - P(both females | fraternal) = 0.25\n",
    "    - P(both males | fraternal) = 0.25\n",
    "    - P(mixes| fraternal) = 0.5\n",
    "    \n",
    "=> P(both females and fraternal) = $0.7 \\times 0.25$ = 0.175\n",
    "\n",
    "Bayes' theorem\n",
    "\n",
    "<img src=\"images/Screen Shot 2016-06-09 at 9.37.50 PM.png\">\n",
    "\n",
    "=> P(identical | both females) = $\\large\\frac{P(\\text{both females and identical})}{P(\\text{both females})}$\n",
    "= $\\large\\frac{0.15}{0.15 + 0.175}$ = 0.4615"
   ]
  },
  {
   "cell_type": "markdown",
   "metadata": {},
   "source": [
    "# Question 7\n",
    "\n",
    "<img src=\"images/Screen Shot 2016-06-09 at 9.51.19 PM.png\">\n",
    "<img src=\"images/Screen Shot 2016-06-09 at 9.55.13 PM.png\">\n",
    "\n",
    "*Screenshot taken from [Coursera](https://www.coursera.org/learn/probability-intro/quiz/w5Fn0/week-4-practice-quiz)*\n",
    "\n",
    "<!--TEASER_END-->"
   ]
  }
 ],
 "metadata": {
  "kernelspec": {
   "display_name": "Python 2",
   "language": "python",
   "name": "python2"
  },
  "language_info": {
   "codemirror_mode": {
    "name": "ipython",
    "version": 2
   },
   "file_extension": ".py",
   "mimetype": "text/x-python",
   "name": "python",
   "nbconvert_exporter": "python",
   "pygments_lexer": "ipython2",
   "version": "2.7.11"
  },
  "toc": {
   "toc_cell": false,
   "toc_number_sections": false,
   "toc_threshold": "8",
   "toc_window_display": false
  }
 },
 "nbformat": 4,
 "nbformat_minor": 0
}
